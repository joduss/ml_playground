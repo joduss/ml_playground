{
 "cells": [
  {
   "cell_type": "markdown",
   "metadata": {
    "collapsed": true,
    "pycharm": {
     "name": "#%% md\n"
    }
   },
   "source": [
    "# Notebook to learn tensorflow\n"
   ]
  },
  {
   "cell_type": "code",
   "execution_count": 20,
   "outputs": [],
   "source": [
    "import tensorflow as tf\n",
    "import numpy as np"
   ],
   "metadata": {
    "collapsed": false,
    "pycharm": {
     "name": "#%%\n"
    }
   }
  },
  {
   "cell_type": "markdown",
   "source": [
    "We want to find the minimum of the function $w^2 - 20w + 25$"
   ],
   "metadata": {
    "collapsed": false,
    "pycharm": {
     "name": "#%% md\n"
    }
   }
  },
  {
   "cell_type": "code",
   "execution_count": 23,
   "outputs": [
    {
     "name": "stdout",
     "output_type": "stream",
     "text": [
      "<tf.Variable 'Variable:0' shape=() dtype=float32, numpy=0.0>\n",
      "<tf.Variable 'Variable:0' shape=() dtype=float32, numpy=0.09999997>\n",
      "<tf.Variable 'Variable:0' shape=() dtype=float32, numpy=4.1475587>\n",
      "<tf.Variable 'Variable:0' shape=() dtype=float32, numpy=5.0394382>\n",
      "<tf.Variable 'Variable:0' shape=() dtype=float32, numpy=4.9985795>\n",
      "<tf.Variable 'Variable:0' shape=() dtype=float32, numpy=5.000125>\n",
      "<tf.Variable 'Variable:0' shape=() dtype=float32, numpy=4.999982>\n",
      "<tf.Variable 'Variable:0' shape=() dtype=float32, numpy=5.0000014>\n",
      "<tf.Variable 'Variable:0' shape=() dtype=float32, numpy=5.0000014>\n",
      "<tf.Variable 'Variable:0' shape=() dtype=float32, numpy=5.0000014>\n"
     ]
    }
   ],
   "source": [
    "w = tf.Variable(0, dtype = tf.float32)\n",
    "optimizer = tf.keras.optimizers.Adam(0.1)\n",
    "\n",
    "def train_step():\n",
    "    with tf.GradientTape() as tape:\n",
    "        cost = w ** 2 - 10 * w + 25\n",
    "\n",
    "    trainable_variables = [w]\n",
    "    grads = tape.gradient(cost, trainable_variables)\n",
    "    optimizer.apply_gradients(zip(grads, trainable_variables))\n",
    "\n",
    "print(w)\n",
    "train_step()\n",
    "print(w)\n",
    "\n",
    "for i in range(1,400):\n",
    "    train_step()\n",
    "    if i % 50 == 0:\n",
    "        print(w)\n",
    "\n",
    "print(w)"
   ],
   "metadata": {
    "collapsed": false,
    "pycharm": {
     "name": "#%%\n"
    }
   }
  },
  {
   "cell_type": "markdown",
   "source": [
    "### Second approach"
   ],
   "metadata": {
    "collapsed": false,
    "pycharm": {
     "name": "#%% md\n"
    }
   }
  },
  {
   "cell_type": "code",
   "execution_count": 22,
   "outputs": [
    {
     "name": "stdout",
     "output_type": "stream",
     "text": [
      "<tf.Variable 'Variable:0' shape=() dtype=float32, numpy=-0.09999997>\n",
      "<tf.Variable 'Variable:0' shape=() dtype=float32, numpy=-0.19994186>\n",
      "<tf.Variable 'Variable:0' shape=() dtype=float32, numpy=-4.194647>\n",
      "<tf.Variable 'Variable:0' shape=() dtype=float32, numpy=-5.039643>\n",
      "<tf.Variable 'Variable:0' shape=() dtype=float32, numpy=-4.99841>\n",
      "<tf.Variable 'Variable:0' shape=() dtype=float32, numpy=-5.000138>\n",
      "<tf.Variable 'Variable:0' shape=() dtype=float32, numpy=-4.999982>\n",
      "<tf.Variable 'Variable:0' shape=() dtype=float32, numpy=-5.0000014>\n",
      "<tf.Variable 'Variable:0' shape=() dtype=float32, numpy=-5.0000014>\n",
      "<tf.Variable 'Variable:0' shape=() dtype=float32, numpy=-5.0000014>\n"
     ]
    }
   ],
   "source": [
    "w = tf.Variable(0, dtype = tf.float32)\n",
    "x = np.array([1.0, -10, 25], dtype=np.float32)\n",
    "optimizer = tf.keras.optimizers.Adam(0.1)\n",
    "\n",
    "\n",
    "def cost_fn():\n",
    "    return x[0] * w ** 2 - x[1] * w + x[2]\n",
    "\n",
    "print(w)\n",
    "optimizer.minimize(cost_fn, [w])\n",
    "print(w)\n",
    "\n",
    "for i in range(1,400):\n",
    "    optimizer.minimize(cost_fn, [w])\n",
    "\n",
    "    if i % 50 == 0:\n",
    "        print(w)\n",
    "\n",
    "print(w)\n",
    "\n"
   ],
   "metadata": {
    "collapsed": false,
    "pycharm": {
     "name": "#%%\n"
    }
   }
  },
  {
   "cell_type": "code",
   "execution_count": 22,
   "outputs": [],
   "source": [],
   "metadata": {
    "collapsed": false,
    "pycharm": {
     "name": "#%%\n"
    }
   }
  }
 ],
 "metadata": {
  "kernelspec": {
   "display_name": "Python 3",
   "language": "python",
   "name": "python3"
  },
  "language_info": {
   "codemirror_mode": {
    "name": "ipython",
    "version": 2
   },
   "file_extension": ".py",
   "mimetype": "text/x-python",
   "name": "python",
   "nbconvert_exporter": "python",
   "pygments_lexer": "ipython2",
   "version": "2.7.6"
  }
 },
 "nbformat": 4,
 "nbformat_minor": 0
}